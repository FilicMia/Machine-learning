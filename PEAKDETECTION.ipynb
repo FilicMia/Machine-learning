{
 "cells": [
  {
   "cell_type": "code",
   "execution_count": null,
   "metadata": {
    "collapsed": true
   },
   "outputs": [],
   "source": [
    "from numpy.lib.stride_tricks import as_strided\n",
    "\n",
    "#Peak detection using the technique described here: http://kkjkok.blogspot.com/2013/12/dsp-snippets_9.html \n",
    "def peakfind(x, n_peaks, l_size=3, r_size=3, c_size=3, f=np.mean):\n",
    "    win_size = l_size + r_size + c_size\n",
    "    #create a strides from sequence x. shape = (no_strides, len_strides)\n",
    "    #http://stackoverflow.com/questions/4936620/using-strides-for-an-efficient-moving-average-filter\n",
    "    shape = x.shape[:-1] + (x.shape[-1] - win_size + 1, win_size)\n",
    "    \n",
    "    strides = x.strides + (x.strides[-1],)\n",
    "    xs = as_strided(x, shape=shape, strides=strides)\n",
    "    def is_peak(x):\n",
    "        centered = (np.argmax(x) == l_size + int(c_size/2))\n",
    "        l = x[:l_size]\n",
    "        c = x[l_size:l_size + c_size]\n",
    "        r = x[-r_size:]\n",
    "        passes = np.max(c) > np.max([f(l), f(r)])\n",
    "        if centered and passes:\n",
    "            return np.max(c)\n",
    "        else:\n",
    "            return -1\n",
    "    #print xs\n",
    "    r = np.apply_along_axis(is_peak, 1, xs) #along column. Along each defined stride.\n",
    "    #print r\n",
    "    top = np.argsort(r, None)[::-1]\n",
    "    heights = r[top[:n_peaks]]\n",
    "    #Add l_size and half - 1 of center size to get to actual peak location\n",
    "    top[top > -1] = top[top > -1] + l_size + int(c_size / 2.)\n",
    "    return heights, top[:n_peaks]"
   ]
  }
 ],
 "metadata": {
  "kernelspec": {
   "display_name": "Python 2",
   "language": "python",
   "name": "python2"
  },
  "language_info": {
   "codemirror_mode": {
    "name": "ipython",
    "version": 2
   },
   "file_extension": ".py",
   "mimetype": "text/x-python",
   "name": "python",
   "nbconvert_exporter": "python",
   "pygments_lexer": "ipython2",
   "version": "2.7.10"
  }
 },
 "nbformat": 4,
 "nbformat_minor": 1
}
