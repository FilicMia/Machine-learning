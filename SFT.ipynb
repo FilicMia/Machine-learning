{
 "cells": [
  {
   "cell_type": "code",
   "execution_count": null,
   "metadata": {
    "collapsed": true
   },
   "outputs": [],
   "source": [
    "import scipy\n",
    "\n",
    "#x-is the input signal\n",
    "#fftsize- number of the instances over which tto get mean amplitude (one spectrogram value)\n",
    "#overlap_pct- is precentage of the spectrogram range that will overlap\n",
    "#             [10:74] is one spectrogram value range, [42:106] \n",
    "#              is another spectogram range. Dure to the overlap_pct = .5\n",
    "def stft(x, fftsize=64, overlap_pct=.5): #short fuier transform.  \n",
    "    #Modified from http://stackoverflow.com/questions/2459295/stft-and-istft-in-python\n",
    "    hop = int(fftsize * (1 - overlap_pct)) #the number of the instances to be hopped from the beginning of the laprevious\n",
    "                                                #spectogram range to create the next one.\n",
    "    w = scipy.hanning(fftsize + 1)[:-1]    \n",
    "    raw = np.array([np.fft.rfft(w * x[i:i + fftsize]) for i in range(0, len(x) - fftsize, hop)])\n",
    "    return raw[:, :(fftsize // 2)]"
   ]
  }
 ],
 "metadata": {
  "kernelspec": {
   "display_name": "Python 2",
   "language": "python",
   "name": "python2"
  },
  "language_info": {
   "codemirror_mode": {
    "name": "ipython",
    "version": 2
   },
   "file_extension": ".py",
   "mimetype": "text/x-python",
   "name": "python",
   "nbconvert_exporter": "python",
   "pygments_lexer": "ipython2",
   "version": "2.7.10"
  }
 },
 "nbformat": 4,
 "nbformat_minor": 1
}
