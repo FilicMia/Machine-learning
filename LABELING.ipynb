{
 "cells": [
  {
   "cell_type": "code",
   "execution_count": null,
   "metadata": {
    "collapsed": true
   },
   "outputs": [],
   "source": [
    "import numpy as np\n",
    "import matplotlib.pyplot as plt\n",
    "%matplotlib inline\n",
    "\n",
    "import utils\n",
    "import os\n",
    "\n",
    "fpaths = []\n",
    "labels= []\n",
    "spoken = []\n",
    "for f in os.listdir('audio'):\n",
    "    for w in os.listdir('audio/'+f):\n",
    "        fpaths.append('audio/'+f+'/'+w)\n",
    "        labels.append(f) #all labels\n",
    "        if f not in spoken:\n",
    "            spoken.append(f)\n",
    "print('Words: ',spoken);\n",
    "\n",
    "#Files can be heard in Linux using the following commands from the command line\n",
    "#cat kiwi07.wav | aplay -f S16_LE -t wav -r 8000\n",
    "#Files are signed 16 bit raw = y axis sampling, sample rate 8000\n",
    "\n",
    "numCols = 4*8000  #each is 4s long at frequency = 8000, so there is 32000 recordings - let say, at most\n",
    "from scipy.io import wavfile\n",
    "\n",
    "data = np.zeros((len(fpaths),numCols))\n",
    "maxsize = -1\n",
    "for n,file in enumerate(fpaths):#paths are relative to this notebook\n",
    "    _, d = wavfile.read(file)  #Return the sample rate (in samples/sec) and data from a WAV file\n",
    "    #print(d.shape)\n",
    "    data[n, :d.shape[0]] = d\n",
    "    if d.shape[0] > maxsize:\n",
    "        maxsize = d.shape[0]\n",
    "data = data[:, :maxsize] #resize matrix\n",
    "\n",
    "\n",
    "#Let extract the files into the matrix\n",
    "#each file will have the labes=0-7\n",
    "\n",
    "\n",
    "#let address labels - real class of each recording\n",
    "print('Number of files:', data.shape[0])\n",
    "all_labels = np.zeros(data.shape[0])\n",
    "\n",
    "for n, l in enumerate(set(labels)): #labels are set\n",
    "    all_labels[np.array([i for i, _ in enumerate(labels) if _ == l])] = n\n",
    "    \n",
    "print('Labels and label indices', all_labels)"
   ]
  }
 ],
 "metadata": {
  "kernelspec": {
   "display_name": "Python 2",
   "language": "python",
   "name": "python2"
  },
  "language_info": {
   "codemirror_mode": {
    "name": "ipython",
    "version": 2
   },
   "file_extension": ".py",
   "mimetype": "text/x-python",
   "name": "python",
   "nbconvert_exporter": "python",
   "pygments_lexer": "ipython2",
   "version": "2.7.10"
  }
 },
 "nbformat": 4,
 "nbformat_minor": 1
}
